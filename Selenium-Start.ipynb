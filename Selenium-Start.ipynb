{
 "cells": [
  {
   "cell_type": "code",
   "execution_count": 1,
   "id": "062fd613",
   "metadata": {},
   "outputs": [],
   "source": [
    "import time   # The rest of the content should be starting after the page is fully loaded.\n",
    "from tqdm import tqdm\n",
    "import requests\n",
    "from bs4 import BeautifulSoup\n",
    "import pandas as pd\n",
    "import numpy as np"
   ]
  },
  {
   "cell_type": "code",
   "execution_count": 80,
   "id": "3af4139d",
   "metadata": {},
   "outputs": [
    {
     "name": "stdout",
     "output_type": "stream",
     "text": [
      "https://www.amazon.in/\n"
     ]
    }
   ],
   "source": [
    "link = 'https://www.amazon.in/'\n",
    "print(link)"
   ]
  },
  {
   "cell_type": "markdown",
   "id": "26c4da7a",
   "metadata": {},
   "source": [
    "## <font color='darkblue'>* Problems with direct link scraping *</font> "
   ]
  },
  {
   "cell_type": "code",
   "execution_count": 81,
   "id": "6c63a97f",
   "metadata": {},
   "outputs": [
    {
     "name": "stdout",
     "output_type": "stream",
     "text": [
      "<Response [200]>\n"
     ]
    }
   ],
   "source": [
    "res  = requests.get(link)\n",
    "soup = BeautifulSoup(res.text, 'html.parser')\n",
    "print(res)"
   ]
  },
  {
   "cell_type": "code",
   "execution_count": 82,
   "id": "997c367c",
   "metadata": {},
   "outputs": [
    {
     "data": {
      "text/plain": [
       "<a aria-label=\"Choose a language for shopping.\" class=\"nav-a nav-a-2 icp-link-style-2\" href=\"/customer-preferences/edit?ie=UTF8&amp;preferencesReturnUrl=%2F&amp;ref_=topnav_lang\" id=\"icp-nav-flyout\">\n",
       "<span class=\"icp-nav-link-inner\">\n",
       "<span class=\"nav-line-1\">\n",
       "</span>\n",
       "<span class=\"nav-line-2\">\n",
       "<span class=\"icp-nav-flag icp-nav-flag-in icp-nav-flag-lop\"></span>\n",
       "<div>EN</div>\n",
       "<span class=\"nav-icon nav-arrow\"></span>\n",
       "</span>\n",
       "</span>\n",
       "</a>"
      ]
     },
     "execution_count": 82,
     "metadata": {},
     "output_type": "execute_result"
    }
   ],
   "source": [
    "soup.find_all('a')[4]\n",
    "\n",
    "# Here other than the about and less important info all the other links are hidden when we try to scrap them instead the link\n",
    "# is returning huge length of numbers."
   ]
  },
  {
   "cell_type": "markdown",
   "id": "0e811058",
   "metadata": {},
   "source": [
    "*Output: 'AboutPressCopyrightContact usCreatorAdvertiseDevelopersTermsPrivacyPolicy & SafetyHow YouTube worksTest new features© 2023 Google LLCGeeksforGeeks - YouTube'*"
   ]
  },
  {
   "cell_type": "markdown",
   "id": "72f0e2ac",
   "metadata": {},
   "source": [
    "## <font color='indianred'>STARTING WITH SELENIUM: Is a type of web driver used to make our life easy.</font>"
   ]
  },
  {
   "cell_type": "code",
   "execution_count": 83,
   "id": "4645ccce",
   "metadata": {},
   "outputs": [],
   "source": [
    "# !pip install selenium\n",
    "# !pip install chromedriver_binary\n",
    "# !pip install webdriver.Chrome()"
   ]
  },
  {
   "cell_type": "code",
   "execution_count": 84,
   "id": "f3617570",
   "metadata": {},
   "outputs": [],
   "source": [
    "from selenium import webdriver  # For working with webdriver\n",
    "\n",
    "# We can check the filepath of our chrome driver \n",
    "import chromedriver_binary"
   ]
  },
  {
   "cell_type": "code",
   "execution_count": 85,
   "id": "55bb8e38",
   "metadata": {},
   "outputs": [
    {
     "data": {
      "text/plain": [
       "'C:\\\\Users\\\\LENOVO\\\\anaconda3\\\\lib\\\\site-packages\\\\chromedriver_binary\\\\chromedriver.exe'"
      ]
     },
     "execution_count": 85,
     "metadata": {},
     "output_type": "execute_result"
    }
   ],
   "source": [
    "# Before using chrome webdriver we need to download that on our path.\n",
    "# webdriver.Chrome()\n",
    "chromedriver_binary.chromedriver_filename    # This will give me the path where the chrome driver is located."
   ]
  },
  {
   "cell_type": "code",
   "execution_count": 86,
   "id": "6e9a6ec9",
   "metadata": {},
   "outputs": [],
   "source": [
    "# If the webdriver.Chrome() function is not working then generate the path through the above function and then pass it in the \n",
    "# args of the webdriver.chrome function."
   ]
  },
  {
   "cell_type": "code",
   "execution_count": 87,
   "id": "10a2a016",
   "metadata": {},
   "outputs": [
    {
     "name": "stdout",
     "output_type": "stream",
     "text": [
      "Requirement already satisfied: webdriver-manager in c:\\users\\lenovo\\anaconda3\\lib\\site-packages (3.8.5)\n",
      "Requirement already satisfied: tqdm in c:\\users\\lenovo\\anaconda3\\lib\\site-packages (from webdriver-manager) (4.64.0)\n",
      "Requirement already satisfied: requests in c:\\users\\lenovo\\anaconda3\\lib\\site-packages (from webdriver-manager) (2.27.1)\n",
      "Requirement already satisfied: python-dotenv in c:\\users\\lenovo\\anaconda3\\lib\\site-packages (from webdriver-manager) (1.0.0)\n",
      "Requirement already satisfied: packaging in c:\\users\\lenovo\\anaconda3\\lib\\site-packages (from webdriver-manager) (21.3)\n",
      "Requirement already satisfied: pyparsing!=3.0.5,>=2.0.2 in c:\\users\\lenovo\\anaconda3\\lib\\site-packages (from packaging->webdriver-manager) (3.0.4)\n",
      "Requirement already satisfied: idna<4,>=2.5 in c:\\users\\lenovo\\anaconda3\\lib\\site-packages (from requests->webdriver-manager) (3.3)\n",
      "Requirement already satisfied: urllib3<1.27,>=1.21.1 in c:\\users\\lenovo\\anaconda3\\lib\\site-packages (from requests->webdriver-manager) (1.26.9)\n",
      "Requirement already satisfied: certifi>=2017.4.17 in c:\\users\\lenovo\\anaconda3\\lib\\site-packages (from requests->webdriver-manager) (2021.10.8)\n",
      "Requirement already satisfied: charset-normalizer~=2.0.0 in c:\\users\\lenovo\\anaconda3\\lib\\site-packages (from requests->webdriver-manager) (2.0.4)\n",
      "Requirement already satisfied: colorama in c:\\users\\lenovo\\anaconda3\\lib\\site-packages (from tqdm->webdriver-manager) (0.4.4)\n"
     ]
    }
   ],
   "source": [
    "# !pip install webdriver-manager"
   ]
  },
  {
   "cell_type": "code",
   "execution_count": 218,
   "id": "c325b341",
   "metadata": {},
   "outputs": [
    {
     "name": "stderr",
     "output_type": "stream",
     "text": [
      "C:\\Users\\LENOVO\\AppData\\Local\\Temp\\ipykernel_10268\\452801513.py:6: DeprecationWarning: executable_path has been deprecated, please pass in a Service object\n",
      "  driver = webdriver.Chrome(ChromeDriverManager().install())\n"
     ]
    }
   ],
   "source": [
    "# This solution was created with the help of stackoverflow link:\n",
    "# https://stackoverflow.com/questions/60296873/sessionnotcreatedexception-message-session-not-created-this-version-of-chrome\n",
    "\n",
    "from webdriver_manager.chrome import ChromeDriverManager\n",
    "\n",
    "browser = webdriver.Chrome(ChromeDriverManager().install())"
   ]
  },
  {
   "cell_type": "markdown",
   "id": "9b36f570",
   "metadata": {},
   "source": [
    "## <font color='darkblue'>* Youtube link web scraping with selenium - I [Understanding the tags]*</font> "
   ]
  },
  {
   "cell_type": "code",
   "execution_count": 219,
   "id": "f6a82772",
   "metadata": {},
   "outputs": [],
   "source": [
    "browser = driver"
   ]
  },
  {
   "cell_type": "code",
   "execution_count": 123,
   "id": "965efb8d",
   "metadata": {},
   "outputs": [],
   "source": [
    "link = 'https://www.youtube.com/c/GeeksforGeeksVideos/videos'\n",
    "browser.get(link)"
   ]
  },
  {
   "cell_type": "code",
   "execution_count": 91,
   "id": "a11105b7",
   "metadata": {},
   "outputs": [],
   "source": [
    "soup  = BeautifulSoup(browser.page_source, 'html.parser')"
   ]
  },
  {
   "cell_type": "code",
   "execution_count": 92,
   "id": "8ca63890",
   "metadata": {},
   "outputs": [
    {
     "name": "stdout",
     "output_type": "stream",
     "text": [
      "•NaN / NaN \n",
      " \n",
      "      Back\n",
      "      Search\n",
      "        Search\n",
      "      \n",
      "GeeksforGeeks - YouTube\n"
     ]
    }
   ],
   "source": [
    "print(soup.text.replace('\\n\\n', ''))"
   ]
  },
  {
   "cell_type": "code",
   "execution_count": 93,
   "id": "d0fc221b",
   "metadata": {},
   "outputs": [],
   "source": [
    "sp = soup.find('ytd-rich-grid-renderer')  # grid renderer is for the grids inside the soup there are 16 grids with each grid\n",
    "                                # having some specific number of items"
   ]
  },
  {
   "cell_type": "code",
   "execution_count": 94,
   "id": "c3592af2",
   "metadata": {},
   "outputs": [
    {
     "ename": "TypeError",
     "evalue": "object of type 'NoneType' has no len()",
     "output_type": "error",
     "traceback": [
      "\u001b[1;31m---------------------------------------------------------------------------\u001b[0m",
      "\u001b[1;31mTypeError\u001b[0m                                 Traceback (most recent call last)",
      "Input \u001b[1;32mIn [94]\u001b[0m, in \u001b[0;36m<cell line: 1>\u001b[1;34m()\u001b[0m\n\u001b[1;32m----> 1\u001b[0m \u001b[38;5;28;43mlen\u001b[39;49m\u001b[43m(\u001b[49m\u001b[43msp\u001b[49m\u001b[43m)\u001b[49m\n",
      "\u001b[1;31mTypeError\u001b[0m: object of type 'NoneType' has no len()"
     ]
    }
   ],
   "source": [
    "len(sp)"
   ]
  },
  {
   "cell_type": "code",
   "execution_count": null,
   "id": "160b3523",
   "metadata": {},
   "outputs": [],
   "source": [
    "len(sp.find_all('ytd-rich-item-renderer'))   # Items per row will be 3 and rows per scroll are 20. item renderer will give item\n",
    "                                             # grid row will give the row"
   ]
  },
  {
   "cell_type": "code",
   "execution_count": null,
   "id": "f472c6df",
   "metadata": {},
   "outputs": [],
   "source": [
    "sp.find_all('ytd-rich-item-renderer')[0].text  # This should give us data of the first video : It is giving the data."
   ]
  },
  {
   "cell_type": "code",
   "execution_count": null,
   "id": "243ffde9",
   "metadata": {},
   "outputs": [],
   "source": [
    "sp.find_all('ytd-rich-item-renderer')[1].text.replace('\\n\\n', '')"
   ]
  },
  {
   "cell_type": "markdown",
   "id": "cd790d5e",
   "metadata": {},
   "source": [
    "## <font color='darkblue'>* Youtube link web scraping with selenium - II [Data from Channel page]*</font> "
   ]
  },
  {
   "cell_type": "code",
   "execution_count": 95,
   "id": "508f4639",
   "metadata": {},
   "outputs": [],
   "source": [
    "soup = soup.find_all('ytd-rich-item-renderer')"
   ]
  },
  {
   "cell_type": "code",
   "execution_count": 96,
   "id": "07bca639",
   "metadata": {},
   "outputs": [
    {
     "data": {
      "text/plain": [
       "0"
      ]
     },
     "execution_count": 96,
     "metadata": {},
     "output_type": "execute_result"
    }
   ],
   "source": [
    "len(soup)"
   ]
  },
  {
   "cell_type": "code",
   "execution_count": 220,
   "id": "15167b68",
   "metadata": {},
   "outputs": [],
   "source": [
    "soup = BeautifulSoup(browser.page_source, 'html.parser')\n"
   ]
  },
  {
   "cell_type": "code",
   "execution_count": 146,
   "id": "bd539bef",
   "metadata": {},
   "outputs": [],
   "source": [
    "data = []\n",
    "for sp in soup.find_all('ytd-rich-item-renderer'):\n",
    "    title           = sp.find('a', class_=\"yt-simple-endpoint focus-on-expand style-scope ytd-rich-grid-media\" ).text\n",
    "\n",
    "        # Fetch the href from the video\n",
    "    video_link      = sp.find('a', class_=\"yt-simple-endpoint focus-on-expand style-scope ytd-rich-grid-media\" ).get('href')\n",
    "\n",
    "    try:\n",
    "        views           = sp.find_all('span', class_='inline-metadata-item style-scope ytd-video-meta-block')[0].text\n",
    "    except:\n",
    "        views           = np.nan\n",
    "    try:\n",
    "        date_time       = sp.find_all('span', class_='inline-metadata-item style-scope ytd-video-meta-block')[1].text\n",
    "    except:\n",
    "        date_time       =  np.nan  \n",
    "\n",
    "    try:\n",
    "        thumbnail_link  = sp.find('img').get('src').split('?')[0]\n",
    "    except:\n",
    "        thumbnail_link  = np.nan\n",
    "        \n",
    "    data.append([title, views, date_time, video_link, thumbnail_link])"
   ]
  },
  {
   "cell_type": "code",
   "execution_count": null,
   "id": "4cc206bf",
   "metadata": {},
   "outputs": [],
   "source": []
  },
  {
   "cell_type": "code",
   "execution_count": 147,
   "id": "f50c9e3c",
   "metadata": {},
   "outputs": [],
   "source": [
    "df = pd.DataFrame(data, columns=['title','views', 'date_time', 'video_link', 'thumbnail_link'])\n"
   ]
  },
  {
   "cell_type": "code",
   "execution_count": 148,
   "id": "cd96ac0e",
   "metadata": {},
   "outputs": [
    {
     "data": {
      "text/html": [
       "<div>\n",
       "<style scoped>\n",
       "    .dataframe tbody tr th:only-of-type {\n",
       "        vertical-align: middle;\n",
       "    }\n",
       "\n",
       "    .dataframe tbody tr th {\n",
       "        vertical-align: top;\n",
       "    }\n",
       "\n",
       "    .dataframe thead th {\n",
       "        text-align: right;\n",
       "    }\n",
       "</style>\n",
       "<table border=\"1\" class=\"dataframe\">\n",
       "  <thead>\n",
       "    <tr style=\"text-align: right;\">\n",
       "      <th></th>\n",
       "      <th>title</th>\n",
       "      <th>views</th>\n",
       "      <th>date_time</th>\n",
       "      <th>video_link</th>\n",
       "      <th>thumbnail_link</th>\n",
       "    </tr>\n",
       "  </thead>\n",
       "  <tbody>\n",
       "    <tr>\n",
       "      <th>0</th>\n",
       "      <td>How to Use GPT 4 | How it's better from GPT 3 ...</td>\n",
       "      <td>1.4K views</td>\n",
       "      <td>17 hours ago</td>\n",
       "      <td>/watch?v=Mnx3TAgbX7o</td>\n",
       "      <td>https://i.ytimg.com/vi/Mnx3TAgbX7o/hqdefault.jpg</td>\n",
       "    </tr>\n",
       "    <tr>\n",
       "      <th>1</th>\n",
       "      <td>Dealing with Employment Cutbacks with Saheb Ku...</td>\n",
       "      <td>584 views</td>\n",
       "      <td>4 days ago</td>\n",
       "      <td>/watch?v=cYoeQbOXZJo</td>\n",
       "      <td>https://i.ytimg.com/vi/cYoeQbOXZJo/hqdefault.jpg</td>\n",
       "    </tr>\n",
       "    <tr>\n",
       "      <th>2</th>\n",
       "      <td>Master DSA Today and be the Masters of Tomorrow</td>\n",
       "      <td>17K views</td>\n",
       "      <td>5 days ago</td>\n",
       "      <td>/watch?v=PsOXP5hg52w</td>\n",
       "      <td>https://i.ytimg.com/vi/PsOXP5hg52w/hqdefault.jpg</td>\n",
       "    </tr>\n",
       "    <tr>\n",
       "      <th>3</th>\n",
       "      <td>How to avoid getting Laid Off | ft. Dr. Sneha ...</td>\n",
       "      <td>788 views</td>\n",
       "      <td>6 days ago</td>\n",
       "      <td>/watch?v=s4frRcj17AM</td>\n",
       "      <td>https://i.ytimg.com/vi/s4frRcj17AM/hqdefault.jpg</td>\n",
       "    </tr>\n",
       "    <tr>\n",
       "      <th>4</th>\n",
       "      <td>Psychology of Deciding Your Career ft. Dhairya...</td>\n",
       "      <td>688 views</td>\n",
       "      <td>7 days ago</td>\n",
       "      <td>/watch?v=0oPyv39ynTo</td>\n",
       "      <td>https://i.ytimg.com/vi/0oPyv39ynTo/hqdefault.jpg</td>\n",
       "    </tr>\n",
       "    <tr>\n",
       "      <th>...</th>\n",
       "      <td>...</td>\n",
       "      <td>...</td>\n",
       "      <td>...</td>\n",
       "      <td>...</td>\n",
       "      <td>...</td>\n",
       "    </tr>\n",
       "    <tr>\n",
       "      <th>1637</th>\n",
       "      <td>Length of shortest chain to reach a target wor...</td>\n",
       "      <td>40K views</td>\n",
       "      <td>6 years ago</td>\n",
       "      <td>/watch?v=6pIC20wCm20</td>\n",
       "      <td>https://i.ytimg.com/vi/6pIC20wCm20/hqdefault.jpg</td>\n",
       "    </tr>\n",
       "    <tr>\n",
       "      <th>1638</th>\n",
       "      <td>Binary Search | GeeksQuiz</td>\n",
       "      <td>187K views</td>\n",
       "      <td>6 years ago</td>\n",
       "      <td>/watch?v=T2sFYY-fT5o</td>\n",
       "      <td>https://i.ytimg.com/vi/T2sFYY-fT5o/hqdefault.jpg</td>\n",
       "    </tr>\n",
       "    <tr>\n",
       "      <th>1639</th>\n",
       "      <td>Number of Triangles in an Undirected Graph | G...</td>\n",
       "      <td>17K views</td>\n",
       "      <td>7 years ago</td>\n",
       "      <td>/watch?v=ChdNz1Ui1uc</td>\n",
       "      <td>https://i.ytimg.com/vi/ChdNz1Ui1uc/hqdefault.jpg</td>\n",
       "    </tr>\n",
       "    <tr>\n",
       "      <th>1640</th>\n",
       "      <td>Write a program to print all permutations of a...</td>\n",
       "      <td>473K views</td>\n",
       "      <td>7 years ago</td>\n",
       "      <td>/watch?v=AfxHGNRtFac</td>\n",
       "      <td>https://i.ytimg.com/vi/AfxHGNRtFac/hqdefault.jpg</td>\n",
       "    </tr>\n",
       "    <tr>\n",
       "      <th>1641</th>\n",
       "      <td>Longest Span with same Sum in two Binary array...</td>\n",
       "      <td>279K views</td>\n",
       "      <td>7 years ago</td>\n",
       "      <td>/watch?v=xtfj4-r_Ahs</td>\n",
       "      <td>https://i.ytimg.com/vi/xtfj4-r_Ahs/hqdefault.jpg</td>\n",
       "    </tr>\n",
       "  </tbody>\n",
       "</table>\n",
       "<p>1642 rows × 5 columns</p>\n",
       "</div>"
      ],
      "text/plain": [
       "                                                  title       views  \\\n",
       "0     How to Use GPT 4 | How it's better from GPT 3 ...  1.4K views   \n",
       "1     Dealing with Employment Cutbacks with Saheb Ku...   584 views   \n",
       "2       Master DSA Today and be the Masters of Tomorrow   17K views   \n",
       "3     How to avoid getting Laid Off | ft. Dr. Sneha ...   788 views   \n",
       "4     Psychology of Deciding Your Career ft. Dhairya...   688 views   \n",
       "...                                                 ...         ...   \n",
       "1637  Length of shortest chain to reach a target wor...   40K views   \n",
       "1638                          Binary Search | GeeksQuiz  187K views   \n",
       "1639  Number of Triangles in an Undirected Graph | G...   17K views   \n",
       "1640  Write a program to print all permutations of a...  473K views   \n",
       "1641  Longest Span with same Sum in two Binary array...  279K views   \n",
       "\n",
       "         date_time            video_link  \\\n",
       "0     17 hours ago  /watch?v=Mnx3TAgbX7o   \n",
       "1       4 days ago  /watch?v=cYoeQbOXZJo   \n",
       "2       5 days ago  /watch?v=PsOXP5hg52w   \n",
       "3       6 days ago  /watch?v=s4frRcj17AM   \n",
       "4       7 days ago  /watch?v=0oPyv39ynTo   \n",
       "...            ...                   ...   \n",
       "1637   6 years ago  /watch?v=6pIC20wCm20   \n",
       "1638   6 years ago  /watch?v=T2sFYY-fT5o   \n",
       "1639   7 years ago  /watch?v=ChdNz1Ui1uc   \n",
       "1640   7 years ago  /watch?v=AfxHGNRtFac   \n",
       "1641   7 years ago  /watch?v=xtfj4-r_Ahs   \n",
       "\n",
       "                                        thumbnail_link  \n",
       "0     https://i.ytimg.com/vi/Mnx3TAgbX7o/hqdefault.jpg  \n",
       "1     https://i.ytimg.com/vi/cYoeQbOXZJo/hqdefault.jpg  \n",
       "2     https://i.ytimg.com/vi/PsOXP5hg52w/hqdefault.jpg  \n",
       "3     https://i.ytimg.com/vi/s4frRcj17AM/hqdefault.jpg  \n",
       "4     https://i.ytimg.com/vi/0oPyv39ynTo/hqdefault.jpg  \n",
       "...                                                ...  \n",
       "1637  https://i.ytimg.com/vi/6pIC20wCm20/hqdefault.jpg  \n",
       "1638  https://i.ytimg.com/vi/T2sFYY-fT5o/hqdefault.jpg  \n",
       "1639  https://i.ytimg.com/vi/ChdNz1Ui1uc/hqdefault.jpg  \n",
       "1640  https://i.ytimg.com/vi/AfxHGNRtFac/hqdefault.jpg  \n",
       "1641  https://i.ytimg.com/vi/xtfj4-r_Ahs/hqdefault.jpg  \n",
       "\n",
       "[1642 rows x 5 columns]"
      ]
     },
     "execution_count": 148,
     "metadata": {},
     "output_type": "execute_result"
    }
   ],
   "source": [
    "df"
   ]
  },
  {
   "cell_type": "code",
   "execution_count": 221,
   "id": "4afa1ddc",
   "metadata": {},
   "outputs": [
    {
     "data": {
      "text/plain": [
       "title               0\n",
       "views               0\n",
       "date_time           0\n",
       "video_link          0\n",
       "thumbnail_link    108\n",
       "dtype: int64"
      ]
     },
     "execution_count": 221,
     "metadata": {},
     "output_type": "execute_result"
    }
   ],
   "source": [
    "df.isnull().sum()"
   ]
  },
  {
   "cell_type": "code",
   "execution_count": 150,
   "id": "f635c612",
   "metadata": {},
   "outputs": [],
   "source": [
    "df.to_csv('youtube-data.csv', index=False)"
   ]
  },
  {
   "cell_type": "code",
   "execution_count": 259,
   "id": "9a8bb992",
   "metadata": {},
   "outputs": [
    {
     "name": "stderr",
     "output_type": "stream",
     "text": [
      "C:\\Users\\LENOVO\\AppData\\Local\\Temp\\ipykernel_10268\\891596756.py:1: DeprecationWarning: executable_path has been deprecated, please pass in a Service object\n",
      "  browser = webdriver.Chrome(ChromeDriverManager().install())\n",
      "100%|████████████████████████████████████████████████████████████████████████████| 1642/1642 [3:25:18<00:00,  7.50s/it]\n"
     ]
    }
   ],
   "source": [
    "browser = webdriver.Chrome(ChromeDriverManager().install())\n",
    "\n",
    "browser.get('https://www.youtube.com')\n",
    "time.sleep(3)\n",
    "\n",
    "data = []\n",
    "\n",
    "for link in tqdm(df['video_link']):\n",
    "    link = 'https://www.youtube.com'+ link\n",
    "    browser.get(link)\n",
    "    \n",
    "    time.sleep(5) # Once the page is loaded after that we will scrap the data.\n",
    "    soup = BeautifulSoup(browser.page_source, 'html.parser')\n",
    "    \n",
    "    # Title of the video scraping\n",
    "    try:\n",
    "        title = soup.find('h1', class_ = 'style-scope ytd-watch-metadata').text.strip()\n",
    "    except:\n",
    "        title = np.nan\n",
    "    \n",
    "    # how many views\n",
    "    try:\n",
    "        view = soup.find_all('span', class_ = 'style-scope yt-formatted-string bold')[0].text\n",
    "    except:\n",
    "        view = np.nan\n",
    "        \n",
    "    \n",
    "    # Upload date\n",
    "    try:\n",
    "        date_time = soup.find_all('span', class_ = 'style-scope yt-formatted-string bold')[2].text\n",
    "    except:\n",
    "        date_time = np.nan\n",
    "    \n",
    "    # Scrap the likes in a video\n",
    "    try:\n",
    "        like = soup.find('button', class_=\"yt-spec-button-shape-next yt-spec-button-shape-next--tonal yt-spec-button-shape-next--mono yt-spec-button-shape-next--size-m yt-spec-button-shape-next--icon-leading yt-spec-button-shape-next--segmented-start\").get('aria-label').split(' ')[-3]\n",
    "    except:\n",
    "        like = np.nan\n",
    "    \n",
    "    # Scraping the description\n",
    "    try:\n",
    "        description = soup.find('span', class_ = 'yt-core-attributed-string yt-core-attributed-string--white-space-pre-wrap').text\n",
    "    except:\n",
    "        description = np.nan\n",
    "        \n",
    "    data.append([title, date_time, view, like, link, description])\n",
    "    \n",
    "    "
   ]
  },
  {
   "cell_type": "code",
   "execution_count": 243,
   "id": "d5ae8ba6",
   "metadata": {},
   "outputs": [
    {
     "name": "stdout",
     "output_type": "stream",
     "text": [
      "1\n",
      "2\n",
      "3\n",
      "4\n",
      "5\n",
      "6\n",
      "7\n",
      "8\n",
      "9\n"
     ]
    }
   ],
   "source": [
    "# Demostration of time library\n",
    "\n",
    "for i in range(1,10):\n",
    "    print(i)\n",
    "    time.sleep(1)"
   ]
  },
  {
   "cell_type": "code",
   "execution_count": 261,
   "id": "a67a177c",
   "metadata": {},
   "outputs": [],
   "source": [
    "df = pd.DataFrame(data, columns = ['title', 'date_time', 'view', 'like', 'link', 'description'])"
   ]
  },
  {
   "cell_type": "code",
   "execution_count": 264,
   "id": "772e6dd9",
   "metadata": {},
   "outputs": [],
   "source": [
    "df.to_csv('youtube-gfg-data.csv', index = False)"
   ]
  },
  {
   "cell_type": "code",
   "execution_count": 265,
   "id": "307442ee",
   "metadata": {},
   "outputs": [
    {
     "data": {
      "text/plain": [
       "title          0\n",
       "date_time      0\n",
       "view           0\n",
       "like           0\n",
       "link           0\n",
       "description    0\n",
       "dtype: int64"
      ]
     },
     "execution_count": 265,
     "metadata": {},
     "output_type": "execute_result"
    }
   ],
   "source": [
    "df.isnull().sum()"
   ]
  },
  {
   "cell_type": "code",
   "execution_count": 268,
   "id": "7f09a6e7",
   "metadata": {},
   "outputs": [
    {
     "name": "stdout",
     "output_type": "stream",
     "text": [
      "https://www.youtube.com/watch?v=Mnx3TAgbX7o\n"
     ]
    }
   ],
   "source": [
    "# Changing the video-link to complete names\n",
    "\n",
    "print(df['link'][0])"
   ]
  },
  {
   "cell_type": "code",
   "execution_count": 266,
   "id": "2d465b1f",
   "metadata": {},
   "outputs": [
    {
     "data": {
      "text/html": [
       "<div>\n",
       "<style scoped>\n",
       "    .dataframe tbody tr th:only-of-type {\n",
       "        vertical-align: middle;\n",
       "    }\n",
       "\n",
       "    .dataframe tbody tr th {\n",
       "        vertical-align: top;\n",
       "    }\n",
       "\n",
       "    .dataframe thead th {\n",
       "        text-align: right;\n",
       "    }\n",
       "</style>\n",
       "<table border=\"1\" class=\"dataframe\">\n",
       "  <thead>\n",
       "    <tr style=\"text-align: right;\">\n",
       "      <th></th>\n",
       "      <th>title</th>\n",
       "      <th>date_time</th>\n",
       "      <th>view</th>\n",
       "      <th>like</th>\n",
       "      <th>link</th>\n",
       "      <th>description</th>\n",
       "    </tr>\n",
       "  </thead>\n",
       "  <tbody>\n",
       "    <tr>\n",
       "      <th>0</th>\n",
       "      <td>How to Use GPT 4 | How it's better from GPT 3 ...</td>\n",
       "      <td>1 day ago</td>\n",
       "      <td>2K views</td>\n",
       "      <td>70</td>\n",
       "      <td>https://www.youtube.com/watch?v=Mnx3TAgbX7o</td>\n",
       "      <td>OpenAI released GPT4 on March 14, and it's way...</td>\n",
       "    </tr>\n",
       "    <tr>\n",
       "      <th>1</th>\n",
       "      <td>Dealing with Employment Cutbacks with Saheb Ku...</td>\n",
       "      <td>5 days ago</td>\n",
       "      <td>586 views</td>\n",
       "      <td>17</td>\n",
       "      <td>https://www.youtube.com/watch?v=cYoeQbOXZJo</td>\n",
       "      <td>Saheb Kumar who is an SDE intern at Amazon con...</td>\n",
       "    </tr>\n",
       "    <tr>\n",
       "      <th>2</th>\n",
       "      <td>Master DSA Today and be the Masters of Tomorrow</td>\n",
       "      <td>6 days ago</td>\n",
       "      <td>18K views</td>\n",
       "      <td>77</td>\n",
       "      <td>https://www.youtube.com/watch?v=PsOXP5hg52w</td>\n",
       "      <td>Are you ready to level up your coding game and...</td>\n",
       "    </tr>\n",
       "    <tr>\n",
       "      <th>3</th>\n",
       "      <td>How to avoid getting Laid Off | ft. Dr. Sneha ...</td>\n",
       "      <td>7 days ago</td>\n",
       "      <td>794 views</td>\n",
       "      <td>27</td>\n",
       "      <td>https://www.youtube.com/watch?v=s4frRcj17AM</td>\n",
       "      <td>Dr. Sneha Sharma a Career Coach and a Public S...</td>\n",
       "    </tr>\n",
       "    <tr>\n",
       "      <th>4</th>\n",
       "      <td>Psychology of Deciding Your Career ft. Dhairya...</td>\n",
       "      <td>8 days ago</td>\n",
       "      <td>689 views</td>\n",
       "      <td>30</td>\n",
       "      <td>https://www.youtube.com/watch?v=0oPyv39ynTo</td>\n",
       "      <td>Meet Dhairya, who wears the hats of a Tedx Spe...</td>\n",
       "    </tr>\n",
       "  </tbody>\n",
       "</table>\n",
       "</div>"
      ],
      "text/plain": [
       "                                               title   date_time       view  \\\n",
       "0  How to Use GPT 4 | How it's better from GPT 3 ...   1 day ago   2K views   \n",
       "1  Dealing with Employment Cutbacks with Saheb Ku...  5 days ago  586 views   \n",
       "2    Master DSA Today and be the Masters of Tomorrow  6 days ago  18K views   \n",
       "3  How to avoid getting Laid Off | ft. Dr. Sneha ...  7 days ago  794 views   \n",
       "4  Psychology of Deciding Your Career ft. Dhairya...  8 days ago  689 views   \n",
       "\n",
       "  like                                         link  \\\n",
       "0   70  https://www.youtube.com/watch?v=Mnx3TAgbX7o   \n",
       "1   17  https://www.youtube.com/watch?v=cYoeQbOXZJo   \n",
       "2   77  https://www.youtube.com/watch?v=PsOXP5hg52w   \n",
       "3   27  https://www.youtube.com/watch?v=s4frRcj17AM   \n",
       "4   30  https://www.youtube.com/watch?v=0oPyv39ynTo   \n",
       "\n",
       "                                         description  \n",
       "0  OpenAI released GPT4 on March 14, and it's way...  \n",
       "1  Saheb Kumar who is an SDE intern at Amazon con...  \n",
       "2  Are you ready to level up your coding game and...  \n",
       "3  Dr. Sneha Sharma a Career Coach and a Public S...  \n",
       "4  Meet Dhairya, who wears the hats of a Tedx Spe...  "
      ]
     },
     "execution_count": 266,
     "metadata": {},
     "output_type": "execute_result"
    }
   ],
   "source": [
    "df.head()"
   ]
  },
  {
   "cell_type": "code",
   "execution_count": 2,
   "id": "1e94b064",
   "metadata": {},
   "outputs": [],
   "source": [
    "df = pd.read_csv('youtube-gfg-data.csv')"
   ]
  },
  {
   "cell_type": "code",
   "execution_count": 3,
   "id": "0a76c0a4",
   "metadata": {},
   "outputs": [
    {
     "data": {
      "text/html": [
       "<div>\n",
       "<style scoped>\n",
       "    .dataframe tbody tr th:only-of-type {\n",
       "        vertical-align: middle;\n",
       "    }\n",
       "\n",
       "    .dataframe tbody tr th {\n",
       "        vertical-align: top;\n",
       "    }\n",
       "\n",
       "    .dataframe thead th {\n",
       "        text-align: right;\n",
       "    }\n",
       "</style>\n",
       "<table border=\"1\" class=\"dataframe\">\n",
       "  <thead>\n",
       "    <tr style=\"text-align: right;\">\n",
       "      <th></th>\n",
       "      <th>title</th>\n",
       "      <th>date_time</th>\n",
       "      <th>view</th>\n",
       "      <th>like</th>\n",
       "      <th>link</th>\n",
       "      <th>description</th>\n",
       "    </tr>\n",
       "  </thead>\n",
       "  <tbody>\n",
       "    <tr>\n",
       "      <th>0</th>\n",
       "      <td>How to Use GPT 4 | How it's better from GPT 3 ...</td>\n",
       "      <td>1 day ago</td>\n",
       "      <td>2K views</td>\n",
       "      <td>70</td>\n",
       "      <td>https://www.youtube.com/watch?v=Mnx3TAgbX7o</td>\n",
       "      <td>OpenAI released GPT4 on March 14, and it's way...</td>\n",
       "    </tr>\n",
       "    <tr>\n",
       "      <th>1</th>\n",
       "      <td>Dealing with Employment Cutbacks with Saheb Ku...</td>\n",
       "      <td>5 days ago</td>\n",
       "      <td>586 views</td>\n",
       "      <td>17</td>\n",
       "      <td>https://www.youtube.com/watch?v=cYoeQbOXZJo</td>\n",
       "      <td>Saheb Kumar who is an SDE intern at Amazon con...</td>\n",
       "    </tr>\n",
       "    <tr>\n",
       "      <th>2</th>\n",
       "      <td>Master DSA Today and be the Masters of Tomorrow</td>\n",
       "      <td>6 days ago</td>\n",
       "      <td>18K views</td>\n",
       "      <td>77</td>\n",
       "      <td>https://www.youtube.com/watch?v=PsOXP5hg52w</td>\n",
       "      <td>Are you ready to level up your coding game and...</td>\n",
       "    </tr>\n",
       "    <tr>\n",
       "      <th>3</th>\n",
       "      <td>How to avoid getting Laid Off | ft. Dr. Sneha ...</td>\n",
       "      <td>7 days ago</td>\n",
       "      <td>794 views</td>\n",
       "      <td>27</td>\n",
       "      <td>https://www.youtube.com/watch?v=s4frRcj17AM</td>\n",
       "      <td>Dr. Sneha Sharma a Career Coach and a Public S...</td>\n",
       "    </tr>\n",
       "    <tr>\n",
       "      <th>4</th>\n",
       "      <td>Psychology of Deciding Your Career ft. Dhairya...</td>\n",
       "      <td>8 days ago</td>\n",
       "      <td>689 views</td>\n",
       "      <td>30</td>\n",
       "      <td>https://www.youtube.com/watch?v=0oPyv39ynTo</td>\n",
       "      <td>Meet Dhairya, who wears the hats of a Tedx Spe...</td>\n",
       "    </tr>\n",
       "  </tbody>\n",
       "</table>\n",
       "</div>"
      ],
      "text/plain": [
       "                                               title   date_time       view  \\\n",
       "0  How to Use GPT 4 | How it's better from GPT 3 ...   1 day ago   2K views   \n",
       "1  Dealing with Employment Cutbacks with Saheb Ku...  5 days ago  586 views   \n",
       "2    Master DSA Today and be the Masters of Tomorrow  6 days ago  18K views   \n",
       "3  How to avoid getting Laid Off | ft. Dr. Sneha ...  7 days ago  794 views   \n",
       "4  Psychology of Deciding Your Career ft. Dhairya...  8 days ago  689 views   \n",
       "\n",
       "  like                                         link  \\\n",
       "0   70  https://www.youtube.com/watch?v=Mnx3TAgbX7o   \n",
       "1   17  https://www.youtube.com/watch?v=cYoeQbOXZJo   \n",
       "2   77  https://www.youtube.com/watch?v=PsOXP5hg52w   \n",
       "3   27  https://www.youtube.com/watch?v=s4frRcj17AM   \n",
       "4   30  https://www.youtube.com/watch?v=0oPyv39ynTo   \n",
       "\n",
       "                                         description  \n",
       "0  OpenAI released GPT4 on March 14, and it's way...  \n",
       "1  Saheb Kumar who is an SDE intern at Amazon con...  \n",
       "2  Are you ready to level up your coding game and...  \n",
       "3  Dr. Sneha Sharma a Career Coach and a Public S...  \n",
       "4  Meet Dhairya, who wears the hats of a Tedx Spe...  "
      ]
     },
     "execution_count": 3,
     "metadata": {},
     "output_type": "execute_result"
    }
   ],
   "source": [
    "df.head()"
   ]
  },
  {
   "cell_type": "code",
   "execution_count": null,
   "id": "97cb09cf",
   "metadata": {},
   "outputs": [],
   "source": []
  }
 ],
 "metadata": {
  "kernelspec": {
   "display_name": "Python 3 (ipykernel)",
   "language": "python",
   "name": "python3"
  },
  "language_info": {
   "codemirror_mode": {
    "name": "ipython",
    "version": 3
   },
   "file_extension": ".py",
   "mimetype": "text/x-python",
   "name": "python",
   "nbconvert_exporter": "python",
   "pygments_lexer": "ipython3",
   "version": "3.9.12"
  }
 },
 "nbformat": 4,
 "nbformat_minor": 5
}
