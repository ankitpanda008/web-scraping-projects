{
 "cells": [
  {
   "cell_type": "code",
   "execution_count": 3,
   "id": "b578e089",
   "metadata": {},
   "outputs": [],
   "source": [
    "import requests \n",
    "from tqdm import tqdm\n",
    "from bs4 import BeautifulSoup\n",
    "import pandas as pd\n",
    "import numpy as np\n",
    "from selenium import webdriver\n",
    "import chromedriver_binary\n",
    "from webdriver_manager.chrome import ChromeDriverManager\n",
    "import time"
   ]
  },
  {
   "cell_type": "code",
   "execution_count": 4,
   "id": "992e777f",
   "metadata": {},
   "outputs": [],
   "source": [
    "link = 'https://stock-pictures.netlify.app'"
   ]
  },
  {
   "cell_type": "code",
   "execution_count": 5,
   "id": "dc0cd225",
   "metadata": {},
   "outputs": [
    {
     "name": "stderr",
     "output_type": "stream",
     "text": [
      "[WDM] - Downloading: 100%|████████████████████████████████████████████████████████| 6.79M/6.79M [02:21<00:00, 50.2kB/s]\n",
      "C:\\Users\\LENOVO\\AppData\\Local\\Temp\\ipykernel_17452\\2767233116.py:1: DeprecationWarning: executable_path has been deprecated, please pass in a Service object\n",
      "  driver = webdriver.Chrome(ChromeDriverManager().install())\n"
     ]
    }
   ],
   "source": [
    "driver = webdriver.Chrome(ChromeDriverManager().install())\n"
   ]
  },
  {
   "cell_type": "code",
   "execution_count": 6,
   "id": "3a7a8ef6",
   "metadata": {},
   "outputs": [],
   "source": [
    "browser = driver\n",
    "browser.get(link)"
   ]
  },
  {
   "cell_type": "code",
   "execution_count": 7,
   "id": "0d7355bf",
   "metadata": {},
   "outputs": [
    {
     "data": {
      "text/plain": [
       "'Stock ImagesYou need to enable JavaScript to run this app.Stock Images with TagsLoading...Scrapped and Made with ❤ '"
      ]
     },
     "execution_count": 7,
     "metadata": {},
     "output_type": "execute_result"
    }
   ],
   "source": [
    "soup = BeautifulSoup(browser.page_source, 'html.parser')\n",
    "soup.text\n",
    "\n",
    "# Loading the data of all the contents can be done in two ways:\n",
    "# One is by manually scrolling to the bottom then loading the page.\n"
   ]
  },
  {
   "cell_type": "markdown",
   "id": "9d8a361e",
   "metadata": {},
   "source": [
    "### Enabling the auto scroll method"
   ]
  },
  {
   "cell_type": "code",
   "execution_count": 8,
   "id": "25eb42dc",
   "metadata": {},
   "outputs": [],
   "source": [
    "# auto scroll using the browser\n",
    "browser.execute_script('scrollTo(0,100)')   # arguments of scroll to are in pixels\n",
    "time.sleep(1)\n"
   ]
  },
  {
   "cell_type": "markdown",
   "id": "3bb1d483",
   "metadata": {},
   "source": [
    "### Scrolling to reach the bottom"
   ]
  },
  {
   "cell_type": "code",
   "execution_count": 9,
   "id": "5fe0810f",
   "metadata": {},
   "outputs": [
    {
     "name": "stderr",
     "output_type": "stream",
     "text": [
      "100%|██████████████████████████████████████████████████████████████████████████████| 2500/2500 [14:09<00:00,  2.94it/s]\n"
     ]
    }
   ],
   "source": [
    "for i in tqdm(range(0,2500000,1000)):\n",
    "    browser.execute_script('scrollTo(0,' + str(i) + ')') \n",
    "    time.sleep(0.3)"
   ]
  },
  {
   "cell_type": "markdown",
   "id": "86bc35ee",
   "metadata": {},
   "source": [
    "### Scraping the page source"
   ]
  },
  {
   "cell_type": "code",
   "execution_count": 10,
   "id": "a2d5157c",
   "metadata": {},
   "outputs": [],
   "source": [
    "soup = BeautifulSoup(browser.page_source, 'html.parser')"
   ]
  },
  {
   "cell_type": "code",
   "execution_count": 11,
   "id": "91541ceb",
   "metadata": {},
   "outputs": [
    {
     "name": "stderr",
     "output_type": "stream",
     "text": [
      "100%|████████████████████████████████████████████████████████████████████████████| 9104/9104 [00:01<00:00, 5228.50it/s]\n"
     ]
    }
   ],
   "source": [
    "data = []\n",
    "\n",
    "for sp in tqdm(soup.find_all('div', class_ = 'container')):\n",
    "    img_link = sp.find('img').get('src')\n",
    "\n",
    "    tags = ', '.join(sp.find('span', class_ = 'tag-color').text[7:].strip().replace(' ','').split(','))\n",
    "    \n",
    "    likes = int(sp.find('div', class_ = 'likes-comments').find_all('span')[0].text.split(' ')[0])\n",
    "    comments = int(sp.find('div', class_ = 'likes-comments').find_all('span')[1].text.split(' ')[0])\n",
    "    \n",
    "    data.append([img_link, tags, likes, comments])\n",
    "    "
   ]
  },
  {
   "cell_type": "code",
   "execution_count": 12,
   "id": "a4904599",
   "metadata": {},
   "outputs": [],
   "source": [
    "# len(soup.find_all('div', class_ = 'container'))"
   ]
  },
  {
   "cell_type": "markdown",
   "id": "c741fa89",
   "metadata": {},
   "source": [
    "### Converting into dataframe"
   ]
  },
  {
   "cell_type": "code",
   "execution_count": 13,
   "id": "d544d3b5",
   "metadata": {},
   "outputs": [
    {
     "data": {
      "text/html": [
       "<div>\n",
       "<style scoped>\n",
       "    .dataframe tbody tr th:only-of-type {\n",
       "        vertical-align: middle;\n",
       "    }\n",
       "\n",
       "    .dataframe tbody tr th {\n",
       "        vertical-align: top;\n",
       "    }\n",
       "\n",
       "    .dataframe thead th {\n",
       "        text-align: right;\n",
       "    }\n",
       "</style>\n",
       "<table border=\"1\" class=\"dataframe\">\n",
       "  <thead>\n",
       "    <tr style=\"text-align: right;\">\n",
       "      <th></th>\n",
       "      <th>img_link</th>\n",
       "      <th>tags</th>\n",
       "      <th>likes</th>\n",
       "      <th>comments</th>\n",
       "    </tr>\n",
       "  </thead>\n",
       "  <tbody>\n",
       "    <tr>\n",
       "      <th>0</th>\n",
       "      <td>https://cdn.pixabay.com/photo/2022/03/06/05/30...</td>\n",
       "      <td>Clouds, Sky, Atmosphere, BlueSky</td>\n",
       "      <td>196</td>\n",
       "      <td>55</td>\n",
       "    </tr>\n",
       "    <tr>\n",
       "      <th>1</th>\n",
       "      <td>https://cdn.pixabay.com/photo/2022/04/07/11/45...</td>\n",
       "      <td>Bird, Ornithology, Hummingbird</td>\n",
       "      <td>76</td>\n",
       "      <td>20</td>\n",
       "    </tr>\n",
       "    <tr>\n",
       "      <th>2</th>\n",
       "      <td>https://cdn.pixabay.com/photo/2022/02/28/15/28...</td>\n",
       "      <td>Sea, Rainbow, Rainfall, Subtropical</td>\n",
       "      <td>282</td>\n",
       "      <td>106</td>\n",
       "    </tr>\n",
       "    <tr>\n",
       "      <th>3</th>\n",
       "      <td>https://cdn.pixabay.com/photo/2022/04/04/02/52...</td>\n",
       "      <td>CherryBlossoms, Road, Japan, Sakura</td>\n",
       "      <td>42</td>\n",
       "      <td>11</td>\n",
       "    </tr>\n",
       "    <tr>\n",
       "      <th>4</th>\n",
       "      <td>https://cdn.pixabay.com/photo/2022/04/09/18/06...</td>\n",
       "      <td>CapeMarguerite, Flower, Plant</td>\n",
       "      <td>39</td>\n",
       "      <td>15</td>\n",
       "    </tr>\n",
       "  </tbody>\n",
       "</table>\n",
       "</div>"
      ],
      "text/plain": [
       "                                            img_link  \\\n",
       "0  https://cdn.pixabay.com/photo/2022/03/06/05/30...   \n",
       "1  https://cdn.pixabay.com/photo/2022/04/07/11/45...   \n",
       "2  https://cdn.pixabay.com/photo/2022/02/28/15/28...   \n",
       "3  https://cdn.pixabay.com/photo/2022/04/04/02/52...   \n",
       "4  https://cdn.pixabay.com/photo/2022/04/09/18/06...   \n",
       "\n",
       "                                  tags  likes  comments  \n",
       "0     Clouds, Sky, Atmosphere, BlueSky    196        55  \n",
       "1       Bird, Ornithology, Hummingbird     76        20  \n",
       "2  Sea, Rainbow, Rainfall, Subtropical    282       106  \n",
       "3  CherryBlossoms, Road, Japan, Sakura     42        11  \n",
       "4        CapeMarguerite, Flower, Plant     39        15  "
      ]
     },
     "execution_count": 13,
     "metadata": {},
     "output_type": "execute_result"
    }
   ],
   "source": [
    "df = pd.DataFrame(data, columns = ['img_link', 'tags', 'likes', 'comments'])\n",
    "\n",
    "df.head()"
   ]
  },
  {
   "cell_type": "code",
   "execution_count": 14,
   "id": "b14f1667",
   "metadata": {},
   "outputs": [
    {
     "data": {
      "text/plain": [
       "img_link    0\n",
       "tags        0\n",
       "likes       0\n",
       "comments    0\n",
       "dtype: int64"
      ]
     },
     "execution_count": 14,
     "metadata": {},
     "output_type": "execute_result"
    }
   ],
   "source": [
    "df.isnull().sum()"
   ]
  },
  {
   "cell_type": "markdown",
   "id": "504dc882",
   "metadata": {},
   "source": [
    "### Checking the duplicate values"
   ]
  },
  {
   "cell_type": "code",
   "execution_count": 15,
   "id": "513793a3",
   "metadata": {},
   "outputs": [
    {
     "data": {
      "text/plain": [
       "count                                                  9104\n",
       "unique                                                 9088\n",
       "top       https://cdn.pixabay.com/photo/2022/03/06/05/30...\n",
       "freq                                                      2\n",
       "Name: img_link, dtype: object"
      ]
     },
     "execution_count": 15,
     "metadata": {},
     "output_type": "execute_result"
    }
   ],
   "source": [
    "# There are some duplicate images in the dataframe\n",
    "df['img_link'].describe()"
   ]
  },
  {
   "cell_type": "code",
   "execution_count": 16,
   "id": "f4caf2ba",
   "metadata": {},
   "outputs": [
    {
     "data": {
      "text/plain": [
       "0       https://cdn.pixabay.com/photo/2022/03/06/05/30...\n",
       "1       https://cdn.pixabay.com/photo/2022/04/07/11/45...\n",
       "2       https://cdn.pixabay.com/photo/2022/02/28/15/28...\n",
       "3       https://cdn.pixabay.com/photo/2022/04/04/02/52...\n",
       "4       https://cdn.pixabay.com/photo/2022/04/09/18/06...\n",
       "                              ...                        \n",
       "9099    https://cdn.pixabay.com/photo/2018/01/08/18/51...\n",
       "9100    https://cdn.pixabay.com/photo/2021/09/22/01/42...\n",
       "9101    https://cdn.pixabay.com/photo/2022/01/09/15/58...\n",
       "9102    https://cdn.pixabay.com/photo/2021/08/10/11/59...\n",
       "9103    https://cdn.pixabay.com/photo/2021/10/03/01/01...\n",
       "Name: img_link, Length: 9088, dtype: object"
      ]
     },
     "execution_count": 16,
     "metadata": {},
     "output_type": "execute_result"
    }
   ],
   "source": [
    "# df['img_link'].drop_duplicates()"
   ]
  },
  {
   "cell_type": "code",
   "execution_count": 17,
   "id": "15f7587c",
   "metadata": {},
   "outputs": [],
   "source": [
    "# Removing the duplicates \n",
    "df = df.drop_duplicates()"
   ]
  },
  {
   "cell_type": "markdown",
   "id": "fd254a46",
   "metadata": {},
   "source": [
    "### Converting into the csv file"
   ]
  },
  {
   "cell_type": "code",
   "execution_count": 19,
   "id": "967f621c",
   "metadata": {},
   "outputs": [],
   "source": [
    "df.to_csv('infinite-scroll-data.csv', index = False)"
   ]
  },
  {
   "cell_type": "code",
   "execution_count": null,
   "id": "79bf91fc",
   "metadata": {},
   "outputs": [],
   "source": []
  }
 ],
 "metadata": {
  "kernelspec": {
   "display_name": "Python 3 (ipykernel)",
   "language": "python",
   "name": "python3"
  },
  "language_info": {
   "codemirror_mode": {
    "name": "ipython",
    "version": 3
   },
   "file_extension": ".py",
   "mimetype": "text/x-python",
   "name": "python",
   "nbconvert_exporter": "python",
   "pygments_lexer": "ipython3",
   "version": "3.9.12"
  }
 },
 "nbformat": 4,
 "nbformat_minor": 5
}
