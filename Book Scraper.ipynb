{
 "cells": [
  {
   "cell_type": "markdown",
   "id": "f3d67ba9",
   "metadata": {},
   "source": [
    "# <font  color = 'green'>SCRAPING BOOKS FROM FRONT PAGE</font>"
   ]
  },
  {
   "cell_type": "code",
   "execution_count": 89,
   "id": "3d18fa9e",
   "metadata": {},
   "outputs": [],
   "source": [
    "import requests\n",
    "from bs4 import BeautifulSoup\n",
    "import pandas as pd\n",
    "from tqdm import tqdm"
   ]
  },
  {
   "cell_type": "code",
   "execution_count": 99,
   "id": "a25f13da",
   "metadata": {},
   "outputs": [
    {
     "name": "stderr",
     "output_type": "stream",
     "text": [
      "100%|██████████████████████████████████████████████████████████████████████████████████| 50/50 [01:03<00:00,  1.27s/it]\n"
     ]
    }
   ],
   "source": [
    "# Generation of 50 links to scrap the data from.\n",
    "data = []\n",
    "for i in tqdm(range(1,51)):\n",
    "    link = 'https://books.toscrape.com/catalogue/page-' +  str(i) + '.html'  # Creating the link\n",
    "\n",
    "    res = requests.get(link)                    # Sending request to the link\n",
    "\n",
    "    soup = BeautifulSoup(res.text, 'html.parser')    # Scraping data in html format\n",
    "    \n",
    "    for sp in soup.find_all('li', class_='col-xs-6 col-sm-4 col-md-3 col-lg-3'):    # Seatching the attribute and performing op.\n",
    "\n",
    "        img_link      =       'https://books.toscrape.com/' + sp.find('img').get('src')\n",
    "        book_link     =       'https://books.toscrape.com/catalogue/' + sp.find_all('a')[-1].get('href')      # There were\n",
    "                                                                                                            # typos so [6:]gets the href\n",
    "        title         =       sp.find_all('a')[-1].get('title') # gets the title\n",
    "        rating        =       sp.find('p').get('class')[-1]    # to get the star rating   \n",
    "        price         =       sp.find('p', class_='price_color').text[1:]\n",
    "        stock         =       sp.find('p', class_= 'instock availability').text.strip()\n",
    "        data.append([title, rating, price, stock, book_link, img_link])  # Saving scraped data in a list\n",
    "    "
   ]
  },
  {
   "cell_type": "markdown",
   "id": "4047236f",
   "metadata": {},
   "source": [
    "1. First task is to move into li tags and scrap the data from it.\n",
    "2. Move into the link in the li tag and try scraping the book info from it."
   ]
  },
  {
   "cell_type": "code",
   "execution_count": 100,
   "id": "e3bcc5f7",
   "metadata": {},
   "outputs": [
    {
     "data": {
      "text/plain": [
       "['A Light in the Attic',\n",
       " 'Three',\n",
       " '£51.77',\n",
       " 'In stock',\n",
       " 'https://books.toscrape.com/catalogue/a-light-in-the-attic_1000/index.html',\n",
       " 'https://books.toscrape.com/../media/cache/2c/da/2cdad67c44b002e7ead0cc35693c0e8b.jpg']"
      ]
     },
     "execution_count": 100,
     "metadata": {},
     "output_type": "execute_result"
    }
   ],
   "source": [
    "data[0]"
   ]
  },
  {
   "cell_type": "code",
   "execution_count": 101,
   "id": "72ce5249",
   "metadata": {},
   "outputs": [
    {
     "data": {
      "text/plain": [
       "1000"
      ]
     },
     "execution_count": 101,
     "metadata": {},
     "output_type": "execute_result"
    }
   ],
   "source": [
    "len(data)   # For confirming the scraping has been done."
   ]
  },
  {
   "cell_type": "code",
   "execution_count": 102,
   "id": "71f917bd",
   "metadata": {},
   "outputs": [],
   "source": [
    "df = pd.DataFrame(data, columns=['title', 'rating', 'price', 'stock', 'book_link', 'img_link'])"
   ]
  },
  {
   "cell_type": "code",
   "execution_count": 103,
   "id": "0a57ae6b",
   "metadata": {},
   "outputs": [
    {
     "data": {
      "text/html": [
       "<div>\n",
       "<style scoped>\n",
       "    .dataframe tbody tr th:only-of-type {\n",
       "        vertical-align: middle;\n",
       "    }\n",
       "\n",
       "    .dataframe tbody tr th {\n",
       "        vertical-align: top;\n",
       "    }\n",
       "\n",
       "    .dataframe thead th {\n",
       "        text-align: right;\n",
       "    }\n",
       "</style>\n",
       "<table border=\"1\" class=\"dataframe\">\n",
       "  <thead>\n",
       "    <tr style=\"text-align: right;\">\n",
       "      <th></th>\n",
       "      <th>title</th>\n",
       "      <th>rating</th>\n",
       "      <th>price</th>\n",
       "      <th>stock</th>\n",
       "      <th>book_link</th>\n",
       "      <th>img_link</th>\n",
       "    </tr>\n",
       "  </thead>\n",
       "  <tbody>\n",
       "    <tr>\n",
       "      <th>0</th>\n",
       "      <td>A Light in the Attic</td>\n",
       "      <td>Three</td>\n",
       "      <td>£51.77</td>\n",
       "      <td>In stock</td>\n",
       "      <td>https://books.toscrape.com/catalogue/a-light-i...</td>\n",
       "      <td>https://books.toscrape.com/../media/cache/2c/d...</td>\n",
       "    </tr>\n",
       "    <tr>\n",
       "      <th>1</th>\n",
       "      <td>Tipping the Velvet</td>\n",
       "      <td>One</td>\n",
       "      <td>£53.74</td>\n",
       "      <td>In stock</td>\n",
       "      <td>https://books.toscrape.com/catalogue/tipping-t...</td>\n",
       "      <td>https://books.toscrape.com/../media/cache/26/0...</td>\n",
       "    </tr>\n",
       "    <tr>\n",
       "      <th>2</th>\n",
       "      <td>Soumission</td>\n",
       "      <td>One</td>\n",
       "      <td>£50.10</td>\n",
       "      <td>In stock</td>\n",
       "      <td>https://books.toscrape.com/catalogue/soumissio...</td>\n",
       "      <td>https://books.toscrape.com/../media/cache/3e/e...</td>\n",
       "    </tr>\n",
       "    <tr>\n",
       "      <th>3</th>\n",
       "      <td>Sharp Objects</td>\n",
       "      <td>Four</td>\n",
       "      <td>£47.82</td>\n",
       "      <td>In stock</td>\n",
       "      <td>https://books.toscrape.com/catalogue/sharp-obj...</td>\n",
       "      <td>https://books.toscrape.com/../media/cache/32/5...</td>\n",
       "    </tr>\n",
       "    <tr>\n",
       "      <th>4</th>\n",
       "      <td>Sapiens: A Brief History of Humankind</td>\n",
       "      <td>Five</td>\n",
       "      <td>£54.23</td>\n",
       "      <td>In stock</td>\n",
       "      <td>https://books.toscrape.com/catalogue/sapiens-a...</td>\n",
       "      <td>https://books.toscrape.com/../media/cache/be/a...</td>\n",
       "    </tr>\n",
       "  </tbody>\n",
       "</table>\n",
       "</div>"
      ],
      "text/plain": [
       "                                   title rating   price     stock  \\\n",
       "0                   A Light in the Attic  Three  £51.77  In stock   \n",
       "1                     Tipping the Velvet    One  £53.74  In stock   \n",
       "2                             Soumission    One  £50.10  In stock   \n",
       "3                          Sharp Objects   Four  £47.82  In stock   \n",
       "4  Sapiens: A Brief History of Humankind   Five  £54.23  In stock   \n",
       "\n",
       "                                           book_link  \\\n",
       "0  https://books.toscrape.com/catalogue/a-light-i...   \n",
       "1  https://books.toscrape.com/catalogue/tipping-t...   \n",
       "2  https://books.toscrape.com/catalogue/soumissio...   \n",
       "3  https://books.toscrape.com/catalogue/sharp-obj...   \n",
       "4  https://books.toscrape.com/catalogue/sapiens-a...   \n",
       "\n",
       "                                            img_link  \n",
       "0  https://books.toscrape.com/../media/cache/2c/d...  \n",
       "1  https://books.toscrape.com/../media/cache/26/0...  \n",
       "2  https://books.toscrape.com/../media/cache/3e/e...  \n",
       "3  https://books.toscrape.com/../media/cache/32/5...  \n",
       "4  https://books.toscrape.com/../media/cache/be/a...  "
      ]
     },
     "execution_count": 103,
     "metadata": {},
     "output_type": "execute_result"
    }
   ],
   "source": [
    "df.head()"
   ]
  },
  {
   "cell_type": "code",
   "execution_count": 104,
   "id": "49be5c2e",
   "metadata": {},
   "outputs": [
    {
     "data": {
      "text/plain": [
       "title        0\n",
       "rating       0\n",
       "price        0\n",
       "stock        0\n",
       "book_link    0\n",
       "img_link     0\n",
       "dtype: int64"
      ]
     },
     "execution_count": 104,
     "metadata": {},
     "output_type": "execute_result"
    }
   ],
   "source": [
    "df.isnull().sum()"
   ]
  },
  {
   "cell_type": "code",
   "execution_count": 105,
   "id": "f1a0ef5f",
   "metadata": {},
   "outputs": [],
   "source": [
    "df.to_csv('books.csv', index=False)"
   ]
  },
  {
   "cell_type": "code",
   "execution_count": null,
   "id": "cc6d13de",
   "metadata": {},
   "outputs": [],
   "source": []
  }
 ],
 "metadata": {
  "kernelspec": {
   "display_name": "Python 3 (ipykernel)",
   "language": "python",
   "name": "python3"
  },
  "language_info": {
   "codemirror_mode": {
    "name": "ipython",
    "version": 3
   },
   "file_extension": ".py",
   "mimetype": "text/x-python",
   "name": "python",
   "nbconvert_exporter": "python",
   "pygments_lexer": "ipython3",
   "version": "3.9.12"
  }
 },
 "nbformat": 4,
 "nbformat_minor": 5
}
