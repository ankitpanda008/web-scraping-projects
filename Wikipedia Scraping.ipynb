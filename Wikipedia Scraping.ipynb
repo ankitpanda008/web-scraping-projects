{
 "cells": [
  {
   "cell_type": "code",
   "execution_count": 85,
   "id": "8a12b495",
   "metadata": {},
   "outputs": [],
   "source": [
    "import requests\n",
    "from bs4 import BeautifulSoup\n",
    "import pandas as pd"
   ]
  },
  {
   "cell_type": "markdown",
   "id": "aba4010a",
   "metadata": {},
   "source": [
    "# <font color = 'indianred'>To Scrap the data directly from google </font>"
   ]
  },
  {
   "cell_type": "code",
   "execution_count": 90,
   "id": "97fa4124",
   "metadata": {},
   "outputs": [
    {
     "name": "stdout",
     "output_type": "stream",
     "text": [
      "Enter your search : mahatma gandhi\n"
     ]
    }
   ],
   "source": [
    "title = str(input(\"Enter your search : \")).replace(' ', '+')\n",
    "\n",
    "link = 'https://www.google.com/search?q=' + title + '+wikipedia'\n",
    "\n",
    "res = requests.get(link)\n",
    "soup = BeautifulSoup(res.text, 'html.parser')"
   ]
  },
  {
   "cell_type": "code",
   "execution_count": 91,
   "id": "8d33b571",
   "metadata": {},
   "outputs": [
    {
     "name": "stdout",
     "output_type": "stream",
     "text": [
      "mahatma gandhi wikipedia - Google SearchGoogle×Please click here if you are not redirected within a few seconds.    AllImagesBooksNews Maps Videos Shopping Search tools    Any timeAny timePast hourPast 24 hoursPast weekPast monthPast yearAll resultsAll resultsVerbatimMahatma Gandhi - Wikipediaen.wikipedia.org › wiki › Mahatma_GandhiMohandas Karamchand Gandhi was an Indian lawyer, anti-colonial nationalist and political ethicist famous for his nonviolent resistance.Family of Mahatma Gandhi · Assassination of Mahatma... · Putlibai Gandhi · DhotiMovement: Indian independence movementBorn: Mohandas Karamchand Gandhi; 2 October 1869; Porbandar, Porbandar State, Kathiawar Agency, British RajParents: Karamchand Gandhi (father); Putlibai Gandhi (mother)Political party: Indian National Congress (1920–1934)Mahatma Gandhi - Simple English Wikipedia, the free encyclopediasimple.wikipedia.org › wiki › Mahatma_GandhiMohandas Karamchand Gandhi (2 October 1869 — 30 January 1948) was a leader of nationalism in British-ruled India. He is more commonly called Mahatma Gandhi; ...Early life · As an activistDate of death: 30 January 1948Born: October 2, 1869, PorbandarNationality: IndiaPeople also askWhat is Mahatma Gandhi story?What are 10 facts about Gandhi?What was the role of Mahatma Gandhi in Indian freedom struggle Wikipedia?Who is Mahatma Gandhi famous for?महात्मा गांधी - विकिपीडियाhi.wikipedia.org › wiki › महात्मा_गांधीअंग्रेजी में पहली बार 100 खंडों में (THE COLLECTED WORKS OF MAHATMA GANDHI नाम से) तथा संशोधित रूप (pdf) में ...Family of Mahatma Gandhi - Wikipediaen.wikipedia.org › wiki › Family_of_Mahatma_GandhiMohandas Gandhi was the distinguished leader of the Indian independence movement ...Assassination of Mahatma Gandhi - Wikipediaen.wikipedia.org › wiki › Assassination_of_Mahatma_GandhiMahatma Gandhi was assassinated on 30 January 1948 at age 78 in the compound ...Gandhi (film) - Wikipediaen.wikipedia.org › wiki › Gandhi_(film)Gandhi is a 1982 period biographical film based on the life of Mahatma Gandhi, the leader of nonviolent non-cooperative Indian independence movement against ...Harilal Gandhi - Wikipediaen.wikipedia.org › wiki › Harilal_GandhiHarilal Mohandas Gandhi was the eldest son of Mahatma Gandhi and Kasturba ...Category:Works about Mahatma Gandhi - Wikipediaen.wikipedia.org › wiki › Category:Works_about_Mahatma_GandhiPages in category \"Works about Mahatma Gandhi\". The following 4 pages are in this category, out of 4 total. This list may not reflect recent changes.Mahatma Gandhi | Biography, Education, Religion ...www.britannica.com › ... › Religious Personages & Scholars26-Jan-2023 · Mahatma Gandhi, byname of Mohandas Karamchand Gandhi, (born October 2, 1869, Porbandar, India—died January 30, 1948, Delhi), Indian lawyer, ...Date of death: January 30, 1948Born: October 2, 1869, PorbandarNationality: IndiaMahatma Gandhi - Wikiquoteen.wikiquote.org › wiki › Mahatma_GandhiTruth alone will endure, all the rest will be swept away before the tide of time. I must continue to bear testimony to truth even if I am forsaken by all. Mine ...Religious: al-Ghazali • Ambedkar • Aquinas • Augustine • Aurobindo • Calvin • Dante • Gandhi • Girard • Gregory • Guénon • Jesus • ...Related searchesMahatma BookSatya ke PrayogFamous Speeches...Satyagraha in South A...Gandhi in India, in hi...More resultsMahatma BookMahatma Gandhi great grandchildrenMahatma Gandhi grandchildrenGandhian movements in IndiaMahatma Gandhi - wikipedia in HindiMahatma Gandhi essayMahatma Gandhi storyMahatma Gandhi biography in EnglishMahatma gandhi wikipedia marathiMahatma Gandhi wifeMahatma Gandhi father nameMahatma gandhi wikipedia in gujarati  Next >  491001, ChhattisgarhFrom your IP address - Learn moreSign inSettingsPrivacyTermsDark theme: Off \n"
     ]
    }
   ],
   "source": [
    "print(soup.text)"
   ]
  },
  {
   "cell_type": "code",
   "execution_count": 92,
   "id": "7822fad1",
   "metadata": {},
   "outputs": [],
   "source": [
    "for sp in soup.find_all('div'):\n",
    "    try:\n",
    "        link = sp.find('a').get('href')\n",
    "        if 'en.wikipedia.org' in link:\n",
    "            break\n",
    "    except:\n",
    "        pass\n",
    "    \n",
    "link = link[7:].split('&')[0]\n",
    "\n",
    "# After some inspection we got to know that in the anchore tag of the divs we have the wikipedia link that we are looking for.\n",
    "# We split the contents from the link as there were`"
   ]
  },
  {
   "cell_type": "code",
   "execution_count": 93,
   "id": "d0478c93",
   "metadata": {},
   "outputs": [],
   "source": [
    "res = requests.get(link)\n",
    "soup = BeautifulSoup(res.text, 'html.parser')\n",
    "\n",
    "heading = soup.find('h1').text\n",
    "\n",
    "corpus = \"\"\n",
    "\n",
    "for p in soup.find_all('p'):\n",
    "    corpus += p.text\n",
    "    corpus += '\\n'\n",
    "    \n",
    "corpus = corpus.strip()\n",
    "\n",
    "for i in range(1,520):\n",
    "    corpus = corpus.replace(f'[{i}]', '')\n",
    "\n",
    "fd = open(heading+'.txt', 'w', encoding = 'utf-8')\n",
    "fd.write(corpus)\n",
    "fd.close()"
   ]
  },
  {
   "cell_type": "code",
   "execution_count": 94,
   "id": "89a9a600",
   "metadata": {},
   "outputs": [],
   "source": [
    "x = soup.find(class_='infobox-data').text"
   ]
  },
  {
   "cell_type": "code",
   "execution_count": 95,
   "id": "71e10bd9",
   "metadata": {},
   "outputs": [
    {
     "data": {
      "text/plain": [
       "'Mohandas Karamchand Gandhi'"
      ]
     },
     "execution_count": 95,
     "metadata": {},
     "output_type": "execute_result"
    }
   ],
   "source": [
    "x[0:26]"
   ]
  },
  {
   "cell_type": "code",
   "execution_count": 96,
   "id": "6f20c8a8",
   "metadata": {},
   "outputs": [
    {
     "name": "stdout",
     "output_type": "stream",
     "text": [
      "/static/images/icons/wikipedia.png\n"
     ]
    }
   ],
   "source": [
    "print(soup.find('img').get('src'))"
   ]
  },
  {
   "cell_type": "code",
   "execution_count": 100,
   "id": "bd11dc3d",
   "metadata": {},
   "outputs": [
    {
     "name": "stdout",
     "output_type": "stream",
     "text": [
      "1869-10-02\n"
     ]
    }
   ],
   "source": [
    "print(soup.find('span', class_='bday').text)"
   ]
  },
  {
   "cell_type": "code",
   "execution_count": null,
   "id": "bf8b596d",
   "metadata": {},
   "outputs": [],
   "source": []
  },
  {
   "cell_type": "code",
   "execution_count": 102,
   "id": "6009ccd7",
   "metadata": {},
   "outputs": [
    {
     "ename": "ValueError",
     "evalue": "'gfg' is not in list",
     "output_type": "error",
     "traceback": [
      "\u001b[1;31m---------------------------------------------------------------------------\u001b[0m",
      "\u001b[1;31mValueError\u001b[0m                                Traceback (most recent call last)",
      "Input \u001b[1;32mIn [102]\u001b[0m, in \u001b[0;36m<cell line: 2>\u001b[1;34m()\u001b[0m\n\u001b[0;32m      1\u001b[0m name \u001b[38;5;241m=\u001b[39m [\u001b[38;5;124m'\u001b[39m\u001b[38;5;124mharsh\u001b[39m\u001b[38;5;124m'\u001b[39m, \u001b[38;5;124m'\u001b[39m\u001b[38;5;124mp\u001b[39m\u001b[38;5;124m'\u001b[39m, \u001b[38;5;124m'\u001b[39m\u001b[38;5;124mb\u001b[39m\u001b[38;5;124m'\u001b[39m, \u001b[38;5;124m'\u001b[39m\u001b[38;5;124md\u001b[39m\u001b[38;5;124m'\u001b[39m]\n\u001b[1;32m----> 2\u001b[0m pos \u001b[38;5;241m=\u001b[39m \u001b[43mname\u001b[49m\u001b[38;5;241;43m.\u001b[39;49m\u001b[43mindex\u001b[49m\u001b[43m(\u001b[49m\u001b[38;5;124;43m'\u001b[39;49m\u001b[38;5;124;43mgfg\u001b[39;49m\u001b[38;5;124;43m'\u001b[39;49m\u001b[43m)\u001b[49m\n\u001b[0;32m      3\u001b[0m \u001b[38;5;28mprint\u001b[39m(pos\u001b[38;5;241m*\u001b[39m\u001b[38;5;241m3\u001b[39m)\n",
      "\u001b[1;31mValueError\u001b[0m: 'gfg' is not in list"
     ]
    }
   ],
   "source": [
    "name = ['harsh', 'p', 'b', 'd']\n",
    "pos = name.index('gfg')\n",
    "print(pos*3)"
   ]
  },
  {
   "cell_type": "code",
   "execution_count": 103,
   "id": "9df11bea",
   "metadata": {},
   "outputs": [
    {
     "data": {
      "text/plain": [
       "float"
      ]
     },
     "execution_count": 103,
     "metadata": {},
     "output_type": "execute_result"
    }
   ],
   "source": [
    "type(12.3)"
   ]
  },
  {
   "cell_type": "code",
   "execution_count": 104,
   "id": "1c3df855",
   "metadata": {},
   "outputs": [
    {
     "data": {
      "text/plain": [
       "str"
      ]
     },
     "execution_count": 104,
     "metadata": {},
     "output_type": "execute_result"
    }
   ],
   "source": [
    "x = '12.33'\n",
    "type(x)"
   ]
  },
  {
   "cell_type": "code",
   "execution_count": 105,
   "id": "60055434",
   "metadata": {},
   "outputs": [
    {
     "data": {
      "text/plain": [
       "float"
      ]
     },
     "execution_count": 105,
     "metadata": {},
     "output_type": "execute_result"
    }
   ],
   "source": [
    "type(float(x))"
   ]
  },
  {
   "cell_type": "code",
   "execution_count": 108,
   "id": "3faa15e9",
   "metadata": {},
   "outputs": [
    {
     "name": "stdout",
     "output_type": "stream",
     "text": [
      "{0: 0, 7: 0, 1: 1, 8: 1}\n"
     ]
    }
   ],
   "source": [
    "D = dict()\n",
    "for x in enumerate(range(2)):\n",
    "    D[x[0]] = x[1]\n",
    "    D[x[1] + 7] = x[0]\n",
    "print(D)"
   ]
  },
  {
   "cell_type": "code",
   "execution_count": null,
   "id": "315d298f",
   "metadata": {},
   "outputs": [],
   "source": []
  }
 ],
 "metadata": {
  "kernelspec": {
   "display_name": "Python 3 (ipykernel)",
   "language": "python",
   "name": "python3"
  },
  "language_info": {
   "codemirror_mode": {
    "name": "ipython",
    "version": 3
   },
   "file_extension": ".py",
   "mimetype": "text/x-python",
   "name": "python",
   "nbconvert_exporter": "python",
   "pygments_lexer": "ipython3",
   "version": "3.9.12"
  }
 },
 "nbformat": 4,
 "nbformat_minor": 5
}
